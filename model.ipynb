{
  "nbformat": 4,
  "nbformat_minor": 0,
  "metadata": {
    "accelerator": "GPU",
    "colab": {
      "provenance": [],
      "include_colab_link": true
    },
    "kernelspec": {
      "display_name": "Python 3",
      "language": "python",
      "name": "python3"
    },
    "language_info": {
      "codemirror_mode": {
        "name": "ipython",
        "version": 3
      },
      "file_extension": ".py",
      "mimetype": "text/x-python",
      "name": "python",
      "nbconvert_exporter": "python",
      "pygments_lexer": "ipython3",
      "version": "3.7.4"
    }
  },
  "cells": [
    {
      "cell_type": "markdown",
      "metadata": {
        "id": "view-in-github",
        "colab_type": "text"
      },
      "source": [
        "<a href=\"https://colab.research.google.com/github/C241-PS517-ISALAT/Isalat-Model/blob/model_test_1/model.ipynb\" target=\"_parent\"><img src=\"https://colab.research.google.com/assets/colab-badge.svg\" alt=\"Open In Colab\"/></a>"
      ]
    },
    {
      "cell_type": "code",
      "metadata": {
        "id": "zSyMHuCVys-O"
      },
      "source": [
        "from google.colab import drive\n",
        "\n",
        "import tensorflow as tf\n",
        "\n",
        "from tensorflow import keras\n",
        "from tensorflow.keras import layers, models, optimizers\n",
        "from tensorflow.keras.models import Sequential\n",
        "from tensorflow.keras.layers import Dense, Conv2D , MaxPooling2D , Flatten , Dropout , BatchNormalization\n",
        "from tensorflow.keras.preprocessing.image import ImageDataGenerator\n",
        "\n",
        "import numpy as np\n",
        "import matplotlib.pyplot as plt\n",
        "import scipy as sp\n",
        "import cv2"
      ],
      "execution_count": 23,
      "outputs": []
    },
    {
      "cell_type": "code",
      "source": [
        "drive.mount('/content/drive')\n",
        "train_data = \"/content/drive/My Drive/bisindo/data/train\"\n",
        "validation_data = \"/content/drive/My Drive/bisindo/data/validation\""
      ],
      "metadata": {
        "colab": {
          "base_uri": "https://localhost:8080/"
        },
        "id": "SsQ9rJFkEQFh",
        "outputId": "c46cc55a-7117-4488-a2bc-906d104bb787"
      },
      "execution_count": 8,
      "outputs": [
        {
          "output_type": "stream",
          "name": "stdout",
          "text": [
            "Drive already mounted at /content/drive; to attempt to forcibly remount, call drive.mount(\"/content/drive\", force_remount=True).\n"
          ]
        }
      ]
    },
    {
      "cell_type": "code",
      "source": [
        "# Define image dimensions (adjust if needed)\n",
        "img_width, img_height = 256, 256  # Example image dimensions\n",
        "\n",
        "# Create ImageDataGenerator for training data\n",
        "train_datagen = ImageDataGenerator(\n",
        "    rescale=1./255,  # Normalize pixel values\n",
        "    shear_range=0.2,  # Randomly apply shearing transformation\n",
        "    zoom_range=0.2,  # Randomly apply zooming\n",
        "    horizontal_flip=True  # Randomly flip images horizontally\n",
        ")\n",
        "\n",
        "# Create ImageDataGenerator for validation data (without data augmentation)\n",
        "val_datagen = ImageDataGenerator(rescale=1./255)\n",
        "\n",
        "# Generate augmented images\n",
        "train_generator = train_datagen.flow_from_directory(\n",
        "    train_data,\n",
        "    target_size=(img_width, img_height),\n",
        "    batch_size=32,\n",
        "    class_mode='sparse',\n",
        "    save_to_dir='/content/drive/My Drive/bisindo/data/augmented_images',\n",
        "    save_prefix='aug',\n",
        "    save_format='jpeg'\n",
        ")\n",
        "\n",
        "validation_generator = val_datagen.flow_from_directory(\n",
        "    validation_data,\n",
        "    target_size=(img_width, img_height),\n",
        "    batch_size=32,\n",
        "    class_mode='sparse'\n",
        ")"
      ],
      "metadata": {
        "colab": {
          "base_uri": "https://localhost:8080/"
        },
        "id": "XrYy5IONaApF",
        "outputId": "0a304157-a045-45cd-de72-c4ce9f8d28b3"
      },
      "execution_count": 9,
      "outputs": [
        {
          "output_type": "stream",
          "name": "stdout",
          "text": [
            "Found 234 images belonging to 26 classes.\n",
            "Found 78 images belonging to 26 classes.\n"
          ]
        }
      ]
    },
    {
      "cell_type": "code",
      "source": [
        "# Generate at least 500 images\n",
        "num_augmented_images = 0\n",
        "while num_augmented_images < 500:\n",
        "    images, labels = next(train_generator)\n",
        "    num_augmented_images += len(images)"
      ],
      "metadata": {
        "id": "2vnlM5yvoJpU"
      },
      "execution_count": 10,
      "outputs": []
    },
    {
      "cell_type": "code",
      "source": [
        "# Define SqueezeNet architecture\n",
        "##STILL NEED SOME FIXING##\n",
        "def fire_module(x, squeeze_filters, expand_filters):\n",
        "    x = layers.Conv2D(squeeze_filters, (1, 1), padding='valid', activation='relu')(x)\n",
        "    left = layers.Conv2D(expand_filters, (1, 1), padding='valid', activation='relu')(x)\n",
        "    right = layers.Conv2D(expand_filters, (3, 3), padding='same', activation='relu')(x)\n",
        "    x = layers.concatenate([left, right])\n",
        "    return x\n",
        "\n",
        "input_shape = (img_width, img_height, 3)\n",
        "input_img = layers.Input(shape=input_shape)\n",
        "\n",
        "x = layers.Conv2D(96, (7, 7), strides=(2, 2), padding='valid', activation='relu')(input_img)\n",
        "x = layers.MaxPooling2D(pool_size=(3, 3), strides=(2, 2))(x)\n",
        "x = fire_module(x, squeeze_filters=16, expand_filters=64)\n",
        "x = fire_module(x, squeeze_filters=16, expand_filters=64)\n",
        "x = fire_module(x, squeeze_filters=32, expand_filters=128)\n",
        "x = layers.MaxPooling2D(pool_size=(3, 3), strides=(2, 2))(x)\n",
        "x = fire_module(x, squeeze_filters=32, expand_filters=128)\n",
        "x = fire_module(x, squeeze_filters=48, expand_filters=192)\n",
        "x = fire_module(x, squeeze_filters=48, expand_filters=192)\n",
        "x = fire_module(x, squeeze_filters=64, expand_filters=256)\n",
        "x = layers.MaxPooling2D(pool_size=(3, 3), strides=(2, 2))(x)\n",
        "x = fire_module(x, squeeze_filters=64, expand_filters=256)\n",
        "x = layers.Dropout(0.5)(x)\n",
        "x = layers.Conv2D(26, (1, 1), padding='valid', activation='relu')(x)\n",
        "x = layers.GlobalAveragePooling2D()(x)\n",
        "output = layers.Activation('softmax')(x)\n",
        "\n",
        "model = models.Model(input_img, output)\n",
        "\n",
        "# Compile the model\n",
        "model.compile(optimizer='adam', loss='sparse_categorical_crossentropy', metrics=['accuracy'])\n"
      ],
      "metadata": {
        "id": "6iR-q09crP6m"
      },
      "execution_count": 24,
      "outputs": []
    },
    {
      "cell_type": "code",
      "metadata": {
        "id": "MEqbqodQqeBV",
        "colab": {
          "base_uri": "https://localhost:8080/"
        },
        "outputId": "cd9fa93f-eb56-44cb-ae39-50ab5cd4cc79"
      },
      "source": [
        "#model train\n",
        "model.fit(train_generator, epochs=10, validation_data=validation_generator)"
      ],
      "execution_count": 25,
      "outputs": [
        {
          "output_type": "stream",
          "name": "stdout",
          "text": [
            "Epoch 1/10\n",
            "8/8 [==============================] - 100s 12s/step - loss: 3.2594 - accuracy: 0.0128 - val_loss: 3.2581 - val_accuracy: 0.0385\n",
            "Epoch 2/10\n",
            "8/8 [==============================] - 66s 8s/step - loss: 3.2583 - accuracy: 0.0385 - val_loss: 3.2581 - val_accuracy: 0.0385\n",
            "Epoch 3/10\n",
            "8/8 [==============================] - 65s 8s/step - loss: 3.2582 - accuracy: 0.0385 - val_loss: 3.2581 - val_accuracy: 0.0385\n",
            "Epoch 4/10\n",
            "8/8 [==============================] - 65s 8s/step - loss: 3.2583 - accuracy: 0.0385 - val_loss: 3.2581 - val_accuracy: 0.0385\n",
            "Epoch 5/10\n",
            "8/8 [==============================] - 62s 7s/step - loss: 3.2581 - accuracy: 0.0385 - val_loss: 3.2581 - val_accuracy: 0.0385\n",
            "Epoch 6/10\n",
            "8/8 [==============================] - 64s 7s/step - loss: 3.2581 - accuracy: 0.0385 - val_loss: 3.2581 - val_accuracy: 0.0385\n",
            "Epoch 7/10\n",
            "8/8 [==============================] - 62s 7s/step - loss: 3.2581 - accuracy: 0.0385 - val_loss: 3.2581 - val_accuracy: 0.0385\n",
            "Epoch 8/10\n",
            "8/8 [==============================] - 62s 7s/step - loss: 3.2581 - accuracy: 0.0385 - val_loss: 3.2581 - val_accuracy: 0.0385\n",
            "Epoch 9/10\n",
            "8/8 [==============================] - 61s 7s/step - loss: 3.2581 - accuracy: 0.0385 - val_loss: 3.2581 - val_accuracy: 0.0385\n",
            "Epoch 10/10\n",
            "8/8 [==============================] - 70s 9s/step - loss: 3.2581 - accuracy: 0.0427 - val_loss: 3.2581 - val_accuracy: 0.0385\n"
          ]
        },
        {
          "output_type": "execute_result",
          "data": {
            "text/plain": [
              "<keras.src.callbacks.History at 0x7c4580c0c580>"
            ]
          },
          "metadata": {},
          "execution_count": 25
        }
      ]
    }
  ]
}